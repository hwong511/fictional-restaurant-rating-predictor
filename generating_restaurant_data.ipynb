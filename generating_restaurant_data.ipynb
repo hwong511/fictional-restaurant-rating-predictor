{
  "nbformat": 4,
  "nbformat_minor": 0,
  "metadata": {
    "colab": {
      "provenance": []
    },
    "kernelspec": {
      "name": "python3",
      "display_name": "Python 3"
    },
    "language_info": {
      "name": "python"
    }
  },
  "cells": [
    {
      "cell_type": "code",
      "execution_count": null,
      "metadata": {
        "id": "BiYlqjb_zDWf"
      },
      "outputs": [],
      "source": [
        "# Set random seed for reproducibility\n",
        "random.seed(101)\n",
        "np.random.seed(101)"
      ]
    },
    {
      "cell_type": "code",
      "source": [
        "def generate_restaurant_data(n_samples=1000):\n",
        "    locations = ['New York', 'San Francisco', 'Boston', 'Chicago', 'Miami']\n",
        "    cuisines = ['Chinese', 'Japanese', 'Italian', 'Indian', 'Mexican']\n",
        "    price_ranges = ['Cheap', 'Moderate', 'Expensive', 'Very Expensive']\n",
        "\n",
        "    data = {\n",
        "        'Location': np.random.choice(locations, n_samples),\n",
        "        'Cuisine': np.random.choice(cuisines, n_samples),\n",
        "        'Number_of_Reviews': np.random.randint(10, 1000, n_samples),\n",
        "        'Price_Range': np.random.choice(price_ranges, n_samples),\n",
        "        'Opening_Year': np.random.randint(1984, 2024, n_samples)\n",
        "    }\n",
        "\n",
        "    df = pd.DataFrame(data)\n",
        "\n",
        "    # More complex rating generation to reduce 5/5 ratings\n",
        "    base_rating = (\n",
        "        4 + np.log(df['Number_of_Reviews']) * 0.15 +\n",
        "        np.where(df['Location'].isin(['New York', 'San Francisco']), 0.3, -0.1) +\n",
        "        np.where(df['Cuisine'].isin(['Italian', 'Japanese']), 0.4,\n",
        "                 np.where(df['Cuisine'].isin(['Mexican', 'Indian']), 0.2, -0.1)) +\n",
        "        np.where(df['Price_Range'].isin(['Expensive', 'Very Expensive']), 0.3,\n",
        "                 np.where(df['Price_Range'] == 'Moderate', 0.1, -0.2)) +\n",
        "        (2024 - df['Opening_Year']) * -0.01\n",
        "    )\n",
        "\n",
        "    # Add noise with reduced probability of extreme ratings\n",
        "    noise = np.random.normal(0, 0.7, n_samples)\n",
        "    df['Ratings'] = (base_rating + noise).clip(1, 5)\n",
        "\n",
        "    # Reduce probability of 5-star ratings\n",
        "    df.loc[df['Ratings'] > 4.7, 'Ratings'] = np.random.uniform(4.0, 4.7, size=len(df[df['Ratings'] > 4.7]))\n",
        "\n",
        "    return df"
      ],
      "metadata": {
        "id": "Y8cyWX0yzopH"
      },
      "execution_count": null,
      "outputs": []
    },
    {
      "cell_type": "code",
      "source": [
        " restaurant_data = generate_restaurant_data()\n",
        " restaurant_data.to_csv('restaurant_ratings_dataset.csv', index=False)"
      ],
      "metadata": {
        "id": "_CF26E0CzuFM"
      },
      "execution_count": null,
      "outputs": []
    }
  ]
}